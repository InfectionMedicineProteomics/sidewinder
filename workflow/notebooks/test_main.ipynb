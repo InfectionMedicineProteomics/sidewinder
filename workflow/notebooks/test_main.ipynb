{
 "cells": [
  {
   "cell_type": "code",
   "execution_count": null,
   "metadata": {},
   "outputs": [],
   "source": [
    "%cd ..\n",
    "\n",
    "from pathlib import Path\n",
    "\n",
    "from scripts.utils import pdb_handling\n",
    "from scripts.utils.cheetah import megadock\n",
    "from scripts.utils.cheetah import ms2\n",
    "from scripts.utils.cheetah import seq2xl"
   ]
  },
  {
   "cell_type": "code",
   "execution_count": null,
   "metadata": {},
   "outputs": [],
   "source": [
    "base_path = Path('/srv/data1/home/jo0348st')\n",
    "\n",
    "data_dir = base_path / 'data/test'\n",
    "\n",
    "input_pdb1 = data_dir / 'pdb2.pdb'  # Swapped like source data...\n",
    "input_pdb2 = data_dir / 'pdb1.pdb'  # Swapped like source data...\n",
    "\n",
    "output_dir = input_pdb1.parent / '221123'\n",
    "\n",
    "output_dir.mkdir(exist_ok=True)\n",
    "\n",
    "%ls {input_pdb1}\n",
    "%ls {input_pdb2}"
   ]
  },
  {
   "cell_type": "code",
   "execution_count": null,
   "metadata": {},
   "outputs": [],
   "source": [
    "pdb, seq_file1, seq_file2 = pdb_handling.cheetah_pdb_format(\n",
    "\n",
    "    PDB1=input_pdb1,\n",
    "\n",
    "    PDB2=input_pdb2,\n",
    "\n",
    "    output_dir=output_dir\n",
    "\n",
    ")"
   ]
  },
  {
   "cell_type": "code",
   "execution_count": null,
   "metadata": {},
   "outputs": [],
   "source": [
    "xl_file = seq2xl.seq2xl(seq_file1=seq_file1,\n",
    "                        seq_file2=seq_file2, output_dir=output_dir)"
   ]
  },
  {
   "cell_type": "markdown",
   "metadata": {},
   "source": [
    "# TODO\n",
    "\n",
    "- Add in modules\n",
    "  - ~~Megadock~~\n",
    "  - msconvert (later)\n",
    "  - MS2 analysis\n",
    "  - modeling unit\n",
    "  - pyMOL"
   ]
  },
  {
   "cell_type": "code",
   "execution_count": null,
   "metadata": {},
   "outputs": [],
   "source": [
    "receptor_pdb = Path('/srv/data1/home/jo0348st/data/test/221123/model_A.pdb')\n",
    "ligand_pdb = Path('/srv/data1/home/jo0348st/data/test/221123/model_B.pdb')\n",
    "\n",
    "megadock_out = megadock.run_megadock(receptor=receptor_pdb, ligand=ligand_pdb, output_dir=output_dir)"
   ]
  },
  {
   "cell_type": "code",
   "execution_count": null,
   "metadata": {},
   "outputs": [],
   "source": [
    "ms2_file = Path('/srv/data1/home/jo0348st/data/test/ms2.mgf')\n",
    "\n",
    "ms2_file_format = ms2_file.suffix.lower()\n",
    "\n",
    "file_convert = {'.mgf': False,\n",
    "                '.mzml': True, '.mzxml': True}\n",
    "\n",
    "if file_convert[ms2_file_format]:\n",
    "\n",
    "    print('Converting...')"
   ]
  },
  {
   "cell_type": "markdown",
   "metadata": {},
   "source": [
    "**Need to look into the whole all XL vs. top XL mix**..."
   ]
  },
  {
   "cell_type": "code",
   "execution_count": null,
   "metadata": {},
   "outputs": [],
   "source": [
    "ms2.run_ms2_analysis()"
   ]
  },
  {
   "cell_type": "code",
   "execution_count": null,
   "metadata": {},
   "outputs": [],
   "source": [
    "from pyteomics import mgf"
   ]
  },
  {
   "cell_type": "code",
   "execution_count": null,
   "metadata": {},
   "outputs": [],
   "source": [
    "mgf_dict_list = list(mgf.read('./../../../../data/sidewinder_dev/uhD4YUPj6ImEQJi/ms2.mgf'))"
   ]
  },
  {
   "cell_type": "code",
   "execution_count": null,
   "metadata": {},
   "outputs": [],
   "source": [
    "mgf_dict_list"
   ]
  }
 ],
 "metadata": {
  "kernelspec": {
   "display_name": "Python 3.7.13 ('pyrosetta')",
   "language": "python",
   "name": "python3"
  },
  "language_info": {
   "codemirror_mode": {
    "name": "ipython",
    "version": 3
   },
   "file_extension": ".py",
   "mimetype": "text/x-python",
   "name": "python",
   "nbconvert_exporter": "python",
   "pygments_lexer": "ipython3",
   "version": "3.7.13 (default, Oct 18 2022, 18:57:03) \n[GCC 11.2.0]"
  },
  "orig_nbformat": 4,
  "vscode": {
   "interpreter": {
    "hash": "64dba1bade80f3d1be731f611020ca32c934708d6a3f33960fb46d9b7530be6b"
   }
  }
 },
 "nbformat": 4,
 "nbformat_minor": 2
}
