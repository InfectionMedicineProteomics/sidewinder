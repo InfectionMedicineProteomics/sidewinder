{
 "cells": [
  {
   "attachments": {},
   "cell_type": "markdown",
   "metadata": {},
   "source": [
    "# Workflow test\n",
    "\n",
    "**TODO:**\n",
    "\n",
    "- Explore the sqlite output db\n",
    "- Look through the NBs and see how they visualize the output\n",
    "  - Where are the identified XLs filtered based on the MS2 data...?\n",
    "    - Look through `fig_maker.py`, `DDA_clean.py`, `fragment_generator.py`, and `fragments.py`\n",
    "- Make a dict that holds file information (like model number)"
   ]
  },
  {
   "cell_type": "markdown",
   "metadata": {},
   "source": [
    "# \"Global\" imports and variable assignments"
   ]
  },
  {
   "cell_type": "code",
   "execution_count": 1,
   "metadata": {},
   "outputs": [],
   "source": [
    "from pathlib import Path\n",
    "from glob import glob\n",
    "\n",
    "out_dir_base = Path(\n",
    "    '/home/jo0348st/resources/projects/2023-heusel_m1_abs/results')\n",
    "\n",
    "out_dir = out_dir_base / '230105/txms_m1-c_rep'\n",
    "\n",
    "cut_off = 30  # Distance cutoff (Å)"
   ]
  },
  {
   "cell_type": "markdown",
   "metadata": {},
   "source": [
    "# 7. Modeling (without the modeling)\n",
    "\n",
    "**TODO:**\n",
    "\n",
    "- Option to input docked complex (one file) or un-docked structures (two files)\n",
    "- Option to set the atoms to calculate the euclidean distance between (e.g. alpha/beta/omega carbon, or nitrogen)"
   ]
  },
  {
   "cell_type": "code",
   "execution_count": null,
   "metadata": {},
   "outputs": [],
   "source": [
    "# Imports and variable assignments\n",
    "from utils import rosettaxlv, rosettaxl\n",
    "\n",
    "# Import and initiate Rosetta\n",
    "import pyrosetta\n",
    "import pyrosetta.rosetta as rosetta\n",
    "from pyrosetta import init, Pose, pose_from_pdb, PyJobDistributor, create_score_function\n",
    "from rosetta.protocols.rigid import *\n",
    "\n",
    "init()\n",
    "\n",
    "\n",
    "# Set input variables (according to vars.ini)\n",
    "input_pdb = './data/uhD4YUPj6ImEQJi/pdb_C.pdb'\n",
    "partners = 'A_B'  # Binding partners (chain labels)\n",
    "top_XL_file = './data/uhD4YUPj6ImEQJi/top_XL.txt'  # Reproduce this\n",
    "num_of_top_filters = 2\n",
    "\n",
    "# Grab model paths\n",
    "input_models = glob('./data/uhD4YUPj6ImEQJi/LR_models/*.pdb')"
   ]
  },
  {
   "cell_type": "code",
   "execution_count": null,
   "metadata": {},
   "outputs": [],
   "source": [
    "# Score models based on XLs\n",
    "\n",
    "score_t_list = []\n",
    "score_normal_list = []\n",
    "pose_list = []\n",
    "out_all_XLs_list = []\n",
    "out_XLs_list = []\n",
    "XL_below_cutoff_list = []\n",
    "\n",
    "\n",
    "if len(input_models) > 0:\n",
    "\n",
    "    for model_path in input_models:\n",
    "\n",
    "        print(model_path)\n",
    "\n",
    "        dock_pose = pose_from_pdb(model_path)\n",
    "\n",
    "        score_t, score_normal, XL_below_cutoff = rosettaxlv.rosettaxlv(\n",
    "\n",
    "            dock_pose,\n",
    "            top_XL_file,\n",
    "            cut_off\n",
    "\n",
    "        )\n",
    "\n",
    "        if len(score_t_list) > num_of_top_filters:\n",
    "            min_score = min(score_t_list)\n",
    "            index_min = score_t_list.index(min_score)\n",
    "            if score_t > min_score:\n",
    "                score_t_list[index_min] = score_t\n",
    "                score_normal_list[index_min] = score_normal\n",
    "                pose_list[index_min] = dock_pose\n",
    "\n",
    "                XL_below_cutoff_list[index_min] = XL_below_cutoff\n",
    "\n",
    "        else:\n",
    "            score_t_list.append(score_t)\n",
    "            score_normal_list.append(score_normal)\n",
    "            pose_list.append(dock_pose)\n",
    "\n",
    "            XL_below_cutoff_list.append(XL_below_cutoff)\n",
    "\n",
    "    for num_pos, struct in enumerate(pose_list):\n",
    "\n",
    "        pdb_name = Path(f'lr_model_{str(num_pos)}')\n",
    "\n",
    "        full_path = str(out_dir / pdb_name)\n",
    "\n",
    "        files = [\n",
    "\n",
    "            x for y in ('*.fasc', '*.pdb', '*.txt')\n",
    "\n",
    "            for x in out_dir.glob(f'{pdb_name}{y}')\n",
    "\n",
    "        ]\n",
    "\n",
    "        if len(files) > 0:\n",
    "\n",
    "            for f in files:\n",
    "\n",
    "                Path(f).unlink()\n",
    "\n",
    "        out_all_name = out_dir.joinpath(f'{pdb_name}_all_XLs.txt')\n",
    "\n",
    "        out_all_XLs_list.append(str(out_all_name))\n",
    "\n",
    "        scorefxn_low = create_score_function('interchain_cen')\n",
    "\n",
    "        jd = PyJobDistributor(full_path, 1, scorefxn_low)\n",
    "\n",
    "        struct.pdb_info().name(full_path + '_fa')\n",
    "\n",
    "        jd.output_decoy(struct)\n",
    "\n",
    "        rosettaxl.rosettaxl(struct, partners, cut_off, str(out_all_name))\n",
    "\n",
    "        out_name = out_dir.joinpath(f'{pdb_name}_XLs.txt')\n",
    "\n",
    "        out_XLs_list.append(out_name)\n",
    "\n",
    "        with open(out_name, 'w') as f:\n",
    "\n",
    "            XLs = XL_below_cutoff_list[num_pos]\n",
    "\n",
    "            for XL in XLs:\n",
    "\n",
    "                print(XL, file=f)"
   ]
  },
  {
   "cell_type": "code",
   "execution_count": null,
   "metadata": {},
   "outputs": [],
   "source": [
    "# CHECK OUT THE LISTS AND WRITE A CSV OR SQLITE DB"
   ]
  },
  {
   "cell_type": "markdown",
   "metadata": {},
   "source": [
    "## Potential issue\n",
    "\n",
    "Difference in the output XLs between the nR and R workflows. Where the euclidean distance seems to be calculated in the same way (_needs further investigation_)—on the same atom (CB)—but reports different distances and therefore filters the peptides differently."
   ]
  },
  {
   "cell_type": "markdown",
   "metadata": {},
   "source": [
    "# 8. Convert mzML to MGF\n",
    "\n",
    "Write wrapper for `msconvert`, using `subprocess.run()`."
   ]
  },
  {
   "cell_type": "code",
   "execution_count": null,
   "metadata": {},
   "outputs": [],
   "source": [
    "#import subprocess"
   ]
  },
  {
   "cell_type": "markdown",
   "metadata": {},
   "source": [
    "# 9. Search MS2 for XLs supported by the predicted structures\n",
    "\n",
    "**TODO:**\n",
    "\n",
    "- _Try to find where the actual cutoff is used_\n",
    "- **Speed up the script** by cleaning the MGF before running TaxLink, using a concatenated file with all XLs\n",
    "    - Make sure that this makes sense with the script used to filter the MGF file"
   ]
  },
  {
   "cell_type": "code",
   "execution_count": null,
   "metadata": {},
   "outputs": [],
   "source": [
    "# Imports and variable assignments.\n",
    "from utils import TaxLink\n",
    "\n",
    "xl_files = [str(x) for x in out_XLs_list]\n",
    "mgf_file = './data/uhD4YUPj6ImEQJi/ms2.mgf'\n",
    "delta = 0.01\n",
    "intensity = 0.0\n",
    "\n",
    "score = 0\n",
    "score_list = []"
   ]
  },
  {
   "cell_type": "code",
   "execution_count": null,
   "metadata": {},
   "outputs": [],
   "source": [
    "for xl_file in xl_files:\n",
    "\n",
    "    # Model number assignment that works with current hardcoding...\n",
    "    # Could alternatively be \"hardcoded\" by enumerating the file list.\n",
    "    model_nr = xl_file.rstrip('_XLs.txt')[-1]\n",
    "\n",
    "    score = TaxLink.taxlink(\n",
    "\n",
    "        xl_file,\n",
    "        mgf_file,\n",
    "        delta,\n",
    "        intensity,\n",
    "        out_dir,\n",
    "        model_nr\n",
    "\n",
    ")\n",
    "\n",
    "    score_list.append(score)\n",
    "\n",
    "top_model_xl = xl_files[score_list.index(max(score_list))]\n",
    "\n",
    "top_model = f'{top_model_xl[:-7]}0.pdb'\n",
    "\n",
    "print('TOP MODEL: ', top_model)\n",
    "\n",
    "command_1 = ['cp', top_model, f'results/test_out/best_model.pdb']\n",
    "subprocess.run(command_1)\n",
    "\n",
    "command_2 = ['cp', top_model_xl, f'results/test_out/best_model_XLs.txt']\n",
    "subprocess.run(command_2)"
   ]
  },
  {
   "cell_type": "code",
   "execution_count": null,
   "metadata": {},
   "outputs": [],
   "source": [
    "# Check the SQLite DBs\n",
    "# import pandas as pd\n",
    "# import numpy as np\n",
    "# import sqlite3 as sql\n",
    "\n",
    "\n",
    "# db = './data/uhD4YUPj6ImEQJi/xldist_db'\n",
    "# con = sql.connect(db)\n",
    "\n",
    "# query = \"\"\"SELECT * FROM xldist\n",
    "#     WHERE dist<30.0\n",
    "#     AND pdb_filename NOT LIKE '%best_model%'\"\"\"\n",
    "\n",
    "# df = pd.read_sql_query(query, con)\n",
    "\n",
    "# df"
   ]
  },
  {
   "cell_type": "markdown",
   "metadata": {},
   "source": [
    "# 10. Create pyMOL session"
   ]
  },
  {
   "cell_type": "code",
   "execution_count": 15,
   "metadata": {},
   "outputs": [
    {
     "name": "stdout",
     "output_type": "stream",
     "text": [
      "PyRosetta-4 2022 [Rosetta PyRosetta4.conda.linux.cxx11thread.serialization.CentOS.python37.Release 2022.41+release.28dc2a1757fe7c8bf9b661dd8d6cd903c305e581 2022-10-14T12:31:19] retrieved from: http://www.pyrosetta.org\n",
      "(C) Copyright Rosetta Commons Member Institutions. Created in JHU by Sergey Lyskov and PyRosetta Team.\n",
      "core.init: Checking for fconfig files in pwd and ./rosetta/flags\n",
      "core.init: Rosetta version: PyRosetta4.conda.linux.cxx11thread.serialization.CentOS.python37.Release r333 2022.41+release.28dc2a1 28dc2a1757fe7c8bf9b661dd8d6cd903c305e581 http://www.pyrosetta.org 2022-10-14T12:31:19\n",
      "core.init: command: PyRosetta -ex1 -ex2aro -database /srv/data1/home/jo0348st/envs/miniconda3/envs/pyrosetta/lib/python3.7/site-packages/pyrosetta/database\n",
      "basic.random.init_random_generator: 'RNG device' seed mode, using '/dev/urandom', seed=-1561373534 seed_offset=0 real_seed=-1561373534 thread_index=0\n",
      "basic.random.init_random_generator: RandomGenerator:init: Normal mode, seed=-1561373534 RG_type=mt19937\n"
     ]
    }
   ],
   "source": [
    "import sqlite3 as sql\n",
    "import __main__\n",
    "__main__.pymol_argv = ['pymol', '-qc']\n",
    "\n",
    "import pymol\n",
    "from pymol import cmd\n",
    "from pyrosetta import init, pose_from_pdb, Pose, pose_from_file\n",
    "\n",
    "from notebook_utils import rosettaxlv, rosettaxl\n",
    "\n",
    "init()\n",
    "\n",
    "pdb_file = out_dir / 'best_model.pdb'\n",
    "top_xls_file = out_dir / 'best_model_xl.txt'\n",
    "ms2_db = out_dir / 'ms2_results.sql'"
   ]
  },
  {
   "cell_type": "code",
   "execution_count": 3,
   "metadata": {},
   "outputs": [],
   "source": [
    "con = sql.connect(ms2_db)\n",
    "con_c = con.cursor()\n",
    "query = f\"\"\"SELECT * FROM MS2Data\"\"\"  # top_model_xl\n",
    "con_c.execute(query)\n",
    "table = con_c.fetchall()\n",
    "\n",
    "ms2_xl_list = []\n",
    "for row in table:\n",
    "    ms2_xl_list.append(str(row[0]))\n",
    "\n",
    "con.close()"
   ]
  },
  {
   "cell_type": "code",
   "execution_count": 17,
   "metadata": {},
   "outputs": [
    {
     "name": "stdout",
     "output_type": "stream",
     "text": [
      "core.import_pose.import_pose: File '/home/jo0348st/resources/projects/2023-heusel_m1_abs/results/230105/txms_m1-c_rep/best_model.pdb' automatically determined to be of type PDB\n",
      "core.io.pose_from_sfr.PoseFromSFRBuilder: [ WARNING ] skipping pdb residue b/c it's missing too many mainchain atoms:  121 A ALA ALA\n",
      "core.io.pose_from_sfr.PoseFromSFRBuilder: missing:  N\n",
      "core.io.pose_from_sfr.PoseFromSFRBuilder: [ WARNING ] skipping pdb residue b/c it's missing too many mainchain atoms:  445 B GLU GLU\n",
      "core.io.pose_from_sfr.PoseFromSFRBuilder: missing:  N\n",
      "core.io.pose_from_sfr.PoseFromSFRBuilder: [ WARNING ] discarding 2 atoms at position 1 in file /home/jo0348st/resources/projects/2023-heusel_m1_abs/results/230105/txms_m1-c_rep/best_model.pdb. Best match rsd_type:  ALA:NtermProteinFull\n",
      "core.io.pose_from_sfr.PoseFromSFRBuilder: [ WARNING ] discarding 1 atoms at position 120 in file /home/jo0348st/resources/projects/2023-heusel_m1_abs/results/230105/txms_m1-c_rep/best_model.pdb. Best match rsd_type:  GLU\n",
      "core.io.pose_from_sfr.PoseFromSFRBuilder: [ WARNING ] discarding 2 atoms at position 241 in file /home/jo0348st/resources/projects/2023-heusel_m1_abs/results/230105/txms_m1-c_rep/best_model.pdb. Best match rsd_type:  ARG:NtermProteinFull\n",
      "core.io.pose_from_sfr.PoseFromSFRBuilder: [ WARNING ] discarding 1 atoms at position 444 in file /home/jo0348st/resources/projects/2023-heusel_m1_abs/results/230105/txms_m1-c_rep/best_model.pdb. Best match rsd_type:  SER\n",
      "core.conformation.Conformation: [ WARNING ] Failed to find a residue connection for residue 120 with connection point 2\n",
      "core.conformation.Conformation: [ WARNING ] Failed to find a residue connection for residue 121 with connection point 1\n",
      "core.conformation.Conformation: [ WARNING ] Failed to find a residue connection for residue 443 with connection point 2\n",
      "core.conformation.Conformation: [ WARNING ] Failed to find a residue connection for residue 444 with connection point 1\n",
      "core.conformation.Conformation: Found disulfide between residues 262 327\n",
      "core.conformation.Conformation: current variant for 262 CYS\n",
      "core.conformation.Conformation: current variant for 327 CYS\n",
      "core.conformation.Conformation: current variant for 262 CYD\n",
      "core.conformation.Conformation: current variant for 327 CYD\n",
      "core.conformation.Conformation: Found disulfide between residues 370 429\n",
      "core.conformation.Conformation: current variant for 370 CYS\n",
      "core.conformation.Conformation: current variant for 429 CYS\n",
      "core.conformation.Conformation: current variant for 370 CYD\n",
      "core.conformation.Conformation: current variant for 429 CYD\n",
      "core.conformation.Conformation: Found disulfide between residues 464 538\n",
      "core.conformation.Conformation: current variant for 464 CYS\n",
      "core.conformation.Conformation: current variant for 538 CYS\n",
      "core.conformation.Conformation: current variant for 464 CYD\n",
      "core.conformation.Conformation: current variant for 538 CYD\n",
      "core.conformation.Conformation: Found disulfide between residues 585 640\n",
      "core.conformation.Conformation: current variant for 585 CYS\n",
      "core.conformation.Conformation: current variant for 640 CYS\n",
      "core.conformation.Conformation: current variant for 585 CYD\n",
      "core.conformation.Conformation: current variant for 640 CYD\n",
      "core.io.pose_from_sfr.PoseFromSFRBuilder: [ WARNING ] can't find pose atom for file-residue 120 atom  OXT (trying to store temperature in PDBInfo)\n",
      "core.io.pose_from_sfr.PoseFromSFRBuilder: [ WARNING ] can't find pose atom for file-residue 443 atom  OXT (trying to store temperature in PDBInfo)\n"
     ]
    },
    {
     "data": {
      "text/plain": [
       "1"
      ]
     },
     "execution_count": 17,
     "metadata": {},
     "output_type": "execute_result"
    }
   ],
   "source": [
    "pose = pose_from_file(str(pdb_file))\n",
    "sequence = pose.sequence()\n",
    "\n",
    "pymol.finish_launching()\n",
    "p_name = pdb_file.stem\n",
    "cmd.bg_color(\"white\")\n",
    "cmd.load(pdb_file)\n",
    "cmd.set_title(p_name, 1, '')\n",
    "cmd.show_as(\"cartoon\", p_name)\n",
    "cmd.color(\"gray\", p_name + \" and name CA\")"
   ]
  },
  {
   "cell_type": "code",
   "execution_count": null,
   "metadata": {},
   "outputs": [],
   "source": [
    "from string import digits\n",
    "\n",
    "output_xl_number = 0\n",
    "found_XL_list = []\n",
    "\n",
    "for num_xl, xl in enumerate(ms2_xl_list):\n",
    "    #print(num_xl+1, xl)\n",
    "\n",
    "    K_pos_P1 = 0\n",
    "    K_pos_P2 = 0\n",
    "    eulidean_dist = 10000.0\n",
    "\n",
    "    xl_trans = str.maketrans('', '', digits)\n",
    "    xl_without_digit = xl.translate(xl_trans)\n",
    "    peptide1 = xl_without_digit.split(\n",
    "            '--')[0].replace(\"-\", \"\").replace(\".\", \"\")[:-2]\n",
    "    peptide2 = xl_without_digit.split('--')[1].replace(\"-\", \"\")[:-3]\n",
    "\n",
    "    K_pos_P1 = peptide1.find('K') + 1\n",
    "    K_pos_P2 = peptide2.find('K') + 1\n",
    "\n",
    "    multiple_occ_list1 = [x for x in range(\n",
    "        len(sequence)) if sequence.find(peptide1, x) == x]\n",
    "    multiple_occ_list2 = [y for y in range(\n",
    "        len(sequence)) if sequence.find(peptide2, y) == y]\n",
    "\n",
    "    ## finding minimum distance if multiple occurance happened\n",
    "    seq_pos_p1_k = 0\n",
    "    seq_pos_p2_k = 0\n",
    "    tmp_dist = 10000.0\n",
    "    for pos1 in multiple_occ_list1:\n",
    "        for pos2 in multiple_occ_list2:\n",
    "            if tmp_dist > rosettaxl.rosetta_eu_dist(pose, pos1+K_pos_P1, pos2+K_pos_P2):\n",
    "                tmp_dist = rosettaxl.rosetta_eu_dist(\n",
    "                    pose, pos1+K_pos_P1, pos2+K_pos_P2)\n",
    "                seq_pos_p1_k = pos1+K_pos_P1\n",
    "                seq_pos_p2_k = pos2+K_pos_P2\n",
    "\n",
    "    #print(\"aa positions on the sequence: \", seq_pos_p1_k, seq_pos_p2_k)\n",
    "\n",
    "    if ((peptide1 in sequence) and (peptide2 in sequence)):\n",
    "        eulidean_dist = rosettaxl.rosetta_eu_dist(\n",
    "            pose, seq_pos_p1_k, seq_pos_p2_k)\n",
    "\n",
    "        #print(\"Euclidean distance is:  \", eulidean_dist, \"\\n\")\n",
    "\n",
    "    else:\n",
    "        print(\"The XL is not found on the protein sequence. Check each peptide to be valid!\")\n",
    "        print('Seq:', sequence)\n",
    "        print('XL:', peptide1, '--', peptide2)\n",
    "\n",
    "    if eulidean_dist <= cut_off:\n",
    "        output_xl_number += 1\n",
    "        found_XL_list.append(xl)\n",
    "        cmd.distance(\"dist_\"+str(num_xl+1),\n",
    "                        str(seq_pos_p1_k)+\"/CA\", str(seq_pos_p2_k)+\"/CA\")\n",
    "\n",
    "## writing XLs below threshold in a file\n",
    "# for item in found_XL_list:\n",
    "#     found_xl_file.write(\"%s\\n\" % item)\n",
    "\n",
    "\n",
    "cmd.set('dash_color', 'red')\n",
    "cmd.set('dash_width', 4)\n",
    "cmd.set('label_size', 22)\n",
    "pymol.cmd.save(out_dir / \"pymol_result.pse\")\n",
    "\n",
    "# Get out!\n",
    "pymol.cmd.quit()"
   ]
  },
  {
   "attachments": {},
   "cell_type": "markdown",
   "metadata": {},
   "source": [
    "(!!!) **Figure out how to assign biological units in a PDB file**"
   ]
  }
 ],
 "metadata": {
  "kernelspec": {
   "display_name": "Python 3.7.12 ('pyrosetta')",
   "language": "python",
   "name": "python3"
  },
  "language_info": {
   "codemirror_mode": {
    "name": "ipython",
    "version": 3
   },
   "file_extension": ".py",
   "mimetype": "text/x-python",
   "name": "python",
   "nbconvert_exporter": "python",
   "pygments_lexer": "ipython3",
   "version": "3.7.13 (default, Oct 18 2022, 18:57:03) \n[GCC 11.2.0]"
  },
  "orig_nbformat": 4,
  "vscode": {
   "interpreter": {
    "hash": "64dba1bade80f3d1be731f611020ca32c934708d6a3f33960fb46d9b7530be6b"
   }
  }
 },
 "nbformat": 4,
 "nbformat_minor": 2
}
