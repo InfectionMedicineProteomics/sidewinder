{
 "cells": [
  {
   "cell_type": "markdown",
   "metadata": {},
   "source": [
    "# Notes\n",
    "\n",
    "- Maybe generating a \"global\" Fab model with AF2 and grafting a ABlooper predicted CDR to it?\n",
    "    - Class: **pyrosetta.rosetta.protocols.antibody.AntibodyCDRGrafter**\n",
    "\n",
    "# Workflow\n",
    "\n",
    "**input**: PDBx2 + ms2.mzML\n",
    "\n",
    "**output**: ...\n",
    "\n",
    "1. Clean PDB files and merge\n",
    "2. ..."
   ]
  },
  {
   "cell_type": "code",
   "execution_count": null,
   "metadata": {},
   "outputs": [],
   "source": [
    "import numpy as np\n",
    "\n",
    "import matplotlib.pyplot as plt\n",
    "import matplotlib\n",
    "\n",
    "from pyrosetta import *\n",
    "from pyrosetta.rosetta.core.scoring import *\n",
    "from pyrosetta.rosetta.core import select\n",
    "from pyrosetta.rosetta.core.select import residue_selector as selections\n",
    "from pyrosetta.rosetta import protocols\n",
    "from pyrosetta.rosetta.core.pack.task import operation\n",
    "from pyrosetta.rosetta.protocols.antibody.residue_selector import CDRResidueSelector\n",
    "from pyrosetta.rosetta.protocols.antibody import *\n",
    "from pyrosetta.toolbox import *\n",
    "\n",
    "import py3Dmol"
   ]
  },
  {
   "cell_type": "code",
   "execution_count": null,
   "metadata": {},
   "outputs": [],
   "source": [
    "def plot_plddt_legend(dpi=100):\n",
    "  thresh = ['plDDT:', 'Very low (<50)', 'Low (60)',\n",
    "            'OK (70)', 'Confident (80)', 'Very high (>90)']\n",
    "  plt.figure(figsize=(1, 0.1), dpi=dpi)\n",
    "  ########################################\n",
    "  for c in [\"#FFFFFF\", \"#FF0000\", \"#FFFF00\", \"#00FF00\", \"#00FFFF\", \"#0000FF\"]:\n",
    "    plt.bar(0, 0, color=c)\n",
    "  plt.legend(thresh, frameon=False,\n",
    "             loc='center', ncol=6,\n",
    "             handletextpad=1,\n",
    "             columnspacing=1,\n",
    "             markerscale=0.5,)\n",
    "  plt.axis(False)\n",
    "  return plt\n",
    "\n",
    "def show_pdb(rank_num=1, show_sidechains=False, show_mainchains=False, color=\"lDDT\"):\n",
    "  model_name = f\"rank_{rank_num}\"\n",
    "  view = py3Dmol.view(js='https://3dmol.org/build/3Dmol.js')\n",
    "  view.addModel(open(clean_pdb_file, 'r').read(), 'pdb')\n",
    "\n",
    "  if color == \"lDDT\":\n",
    "    view.setStyle({'cartoon': {'colorscheme': {'prop': 'b',\n",
    "                  'gradient': 'roygb', 'min': 50, 'max': 90}}})\n",
    "  elif color == \"rainbow\":\n",
    "    view.setStyle({'cartoon': {'color': 'spectrum'}})\n",
    "  elif color == \"chain\":\n",
    "    chains = len(queries[0][1]) + 1 if is_complex else 1\n",
    "    for n, chain, color in zip(range(chains), list(\"ABCDEFGH\"),\n",
    "                               [\"lime\", \"cyan\", \"magenta\", \"yellow\", \"salmon\", \"white\", \"blue\", \"orange\"]):\n",
    "      view.setStyle({'chain': chain}, {'cartoon': {'color': color}})\n",
    "  if show_sidechains:\n",
    "    BB = ['C', 'O', 'N']\n",
    "    view.addStyle({'and': [{'resn': [\"GLY\", \"PRO\"], 'invert':True}, {'atom': BB, 'invert': True}]},\n",
    "                  {'stick': {'colorscheme': f\"WhiteCarbon\", 'radius': 0.3}})\n",
    "    view.addStyle({'and': [{'resn': \"GLY\"}, {'atom': 'CA'}]},\n",
    "                  {'sphere': {'colorscheme': f\"WhiteCarbon\", 'radius': 0.3}})\n",
    "    view.addStyle({'and': [{'resn': \"PRO\"}, {'atom': ['C', 'O'], 'invert':True}]},\n",
    "                  {'stick': {'colorscheme': f\"WhiteCarbon\", 'radius': 0.3}})\n",
    "  if show_mainchains:\n",
    "    BB = ['C', 'O', 'N', 'CA']\n",
    "    view.addStyle(\n",
    "        {'atom': BB}, {'stick': {'colorscheme': f\"WhiteCarbon\", 'radius': 0.3}})\n",
    "\n",
    "  view.setBackgroundColor('lightgray')\n",
    "  view.zoomTo()\n",
    "  return view"
   ]
  },
  {
   "cell_type": "code",
   "execution_count": null,
   "metadata": {},
   "outputs": [],
   "source": [
    "init('-use_input_sc -ignore_unrecognized_res \\\n",
    "     -ignore_zero_occupancy false -load_PDB_components false -no_fconfig')\n"
   ]
  },
  {
   "cell_type": "code",
   "execution_count": null,
   "metadata": {},
   "outputs": [],
   "source": [
    "pdb_file = './data/top01_fab.pdb'\n",
    "clean_pdb_file = './data/top01_fab_clean.pdb'\n",
    "cleanATOM(pdb_file=pdb_file, out_file=clean_pdb_file)\n",
    "\n",
    "pose = pose_from_pdb(clean_pdb_file)\n",
    "original_pose = pose.clone()"
   ]
  },
  {
   "cell_type": "code",
   "execution_count": null,
   "metadata": {},
   "outputs": [],
   "source": [
    "pdb_info = pose.pdb_info()\n",
    "nres = pose.total_residue()\n",
    "seq = pose.sequence()\n",
    "\n",
    "line_break = 50\n",
    "seq_print = ''.join(\n",
    "    [\n",
    "        c\n",
    "        if (i+1)%(line_break+1)!=0\n",
    "        else '\\n'\n",
    "        for i, c in enumerate(seq)\n",
    "    ]\n",
    ")\n",
    "\n",
    "print(pdb_info)\n",
    "print(f'Residues [n={nres}]\\n{seq_print}')"
   ]
  },
  {
   "cell_type": "code",
   "execution_count": null,
   "metadata": {},
   "outputs": [],
   "source": [
    "pdb_nums = [\n",
    "    (str(pdb_info.number(i)) + pdb_info.icode(i)).strip()\n",
    "    for i in range(1, nres + 1)\n",
    "]\n",
    "chains = [pdb_info.chain(i) for i in range(1, nres + 1)]\n",
    "unique_chains = set(chains)\n",
    "\n",
    "phis = [pose.phi(i) for i in range(1, nres + 1)]\n",
    "psis = [pose.psi(i) for i in range(1, nres + 1)]\n",
    "omegas = [pose.omega(i) for i in range(1, nres + 1)]\n",
    "\n",
    "sfxn = get_score_function()\n",
    "sfxn(pose)\n",
    "\n",
    "DSSP = protocols.moves.DsspMover()\n",
    "DSSP.apply(pose)\n",
    "ss = pose.secstruct()"
   ]
  },
  {
   "cell_type": "code",
   "execution_count": null,
   "metadata": {},
   "outputs": [],
   "source": [
    "# TODO:\n",
    "# - Change to f-strings\n",
    "print(f'Secondary Structure:\\n{ss}')\n",
    "print('\\t' + str(100. * ss.count('H') / len(ss))[:4] + '% Helical (H)')\n",
    "print('\\t' + str(100. * ss.count('E') / len(ss))[:4] + '% Sheet (E)')\n",
    "print('\\t' + str(100. * ss.count('L') / len(ss))[:4] + '% Loop (L)')"
   ]
  },
  {
   "cell_type": "code",
   "execution_count": null,
   "metadata": {},
   "outputs": [],
   "source": [
    "is_complex = False\n",
    "rank_num = 1\n",
    "show_sidechains = False\n",
    "show_mainchains = False\n",
    "color = 'lDDT'\n",
    "\n",
    "\n",
    "if color == \"lDDT\":\n",
    "  plot_plddt_legend(dpi=77.8).show()\n",
    "\n",
    "show_pdb(rank_num, show_sidechains, show_mainchains, color).show()"
   ]
  },
  {
   "cell_type": "code",
   "execution_count": null,
   "metadata": {},
   "outputs": [],
   "source": [
    "energies = pose.energies()\n",
    "residue_energies = [\n",
    "    energies.residue_total_energy(i)\n",
    "    for i in range(1, nres + 1)\n",
    "]\n",
    "\n",
    "pose_hbonds = hbonds.HBondSet()\n",
    "\n",
    "hbonds.fill_hbond_set(pose, False, pose_hbonds)\n",
    "\n",
    "hbond_dictionary = {}\n",
    "\n",
    "for residue in range(1, nres + 1):\n",
    "    hbond_text = ''\n",
    "    for hbond in range(1, pose_hbonds.nhbonds() + 1):\n",
    "        hbond = pose_hbonds.hbond(hbond)\n",
    "        acceptor_residue = hbond.acc_res()\n",
    "        donor_residue = hbond.don_res()\n",
    "        if residue == acceptor_residue or residue == donor_residue:\n",
    "            # Rewrite to save as data structure and not string!\n",
    "            # And skip duplicates.\n",
    "            hbond_text += str(donor_residue).ljust(4) + ' ' + \\\n",
    "                str(pose.residue(donor_residue).atom_name(\n",
    "                    hbond.don_hatm())).strip().ljust(4) + \\\n",
    "                ' => ' + str(acceptor_residue).ljust(4) + ' ' + \\\n",
    "                str(pose.residue(acceptor_residue).atom_name(\n",
    "                    hbond.acc_atm())).strip().ljust(4) + \\\n",
    "                ' |score: ' + str(hbond.energy()) + '\\n'\n",
    "    hbond_dictionary[residue] = hbond_text if len(hbond_text)>1 else None"
   ]
  },
  {
   "cell_type": "code",
   "execution_count": null,
   "metadata": {},
   "outputs": [],
   "source": [
    "print('(donor residue) (donor atom) => (acceptor residue) (acceptor atom) |score')\n",
    "\n",
    "for k, v in hbond_dictionary.items():\n",
    "    if v:\n",
    "        print(v)"
   ]
  },
  {
   "cell_type": "code",
   "execution_count": null,
   "metadata": {},
   "outputs": [],
   "source": [
    "ab_info = protocols.antibody.AntibodyInfo(\n",
    "    pose, protocols.antibody.Kabat_Scheme, protocols.antibody.North)\n",
    "\n",
    "enum_manager = protocols.antibody.AntibodyEnumManager()"
   ]
  },
  {
   "cell_type": "code",
   "execution_count": null,
   "metadata": {},
   "outputs": [],
   "source": [
    "list_dict = {chain: [] for chain in unique_chains}\n",
    "\n",
    "view = py3Dmol.view()\n",
    "view.addModel(open('./data/top01_fab_clean.pdb', 'r').read(), 'pdb')\n",
    "view.setBackgroundColor('lightgrey')\n",
    "\n",
    "for i in range(1, len(seq)+1):\n",
    "    chain = pose.pdb_info().chain(i)\n",
    "    residue = pose.pdb_info().number(i)\n",
    "\n",
    "    list_dict[chain].append('')\n",
    "\n",
    "view.zoomTo()"
   ]
  },
  {
   "cell_type": "code",
   "execution_count": null,
   "metadata": {},
   "outputs": [],
   "source": [
    "import nglview as nv\n",
    "\n",
    "color_list = []\n",
    "\n",
    "for i in range(1, pose.size()+1):\n",
    "    region = enum_manager.antibody_region_enum_to_string(\n",
    "        ab_info.get_region_of_residue(pose, i)\n",
    "    )\n",
    "    if region == 'framework_region':\n",
    "        tmp_list = ['black', str(i)]\n",
    "    else:\n",
    "        cdr = enum_manager.cdr_name_enum_to_string(\n",
    "            ab_info.get_CDRNameEnum_of_residue(pose, i))\n",
    "        if cdr.startswith('L'):\n",
    "            tmp_list = ['red', str(i)]\n",
    "        elif cdr.startswith('H'):\n",
    "            tmp_list = ['blue', str(i)]\n",
    "        else:\n",
    "            tmp_list = ['white', str(i)]\n",
    "    color_list.append(tmp_list)\n",
    "\n",
    "color_scheme = nv.color._ColorScheme(color_list, 0)\n",
    "\n",
    "v = nv.show_rosetta(pose, default_representation=False)\n",
    "\n",
    "v.clear()\n",
    "v.add_cartoon('protein', color=color_scheme)\n",
    "v"
   ]
  },
  {
   "cell_type": "code",
   "execution_count": null,
   "metadata": {},
   "outputs": [],
   "source": [
    "# nbr_selector = selections.NeighborhoodResidueSelector()\n",
    "# cdr_selector = protocols.antibody.residue_selector.CDRResidueSelector()\n",
    "# cdr_selector.set_cdr(h1)\n",
    "\n",
    "# nbr_selector.set_focus_selector(cdr_selector)\n",
    "# nbr_selector.set_include_focus_in_subset(True)\n",
    "\n",
    "# prevent_repacking_rlt = operation.PreventRepackingRLT()\n",
    "\n",
    "# prevent_subset_repacking = operation.OperateOnResidueSubset(\n",
    "#     prevent_repacking_rlt,\n",
    "#     nbr_selector,\n",
    "#     True\n",
    "# )\n"
   ]
  },
  {
   "cell_type": "code",
   "execution_count": null,
   "metadata": {},
   "outputs": [],
   "source": [
    "# cdr_res = []\n",
    "# for i in select.get_residue_set_from_subset(cdr_selector.apply(pose)):\n",
    "#     #print(i)\n",
    "#     cdr_res.append(i)"
   ]
  }
 ],
 "metadata": {
  "kernelspec": {
   "display_name": "Python 3.7.13 ('pyrosetta')",
   "language": "python",
   "name": "python3"
  },
  "language_info": {
   "codemirror_mode": {
    "name": "ipython",
    "version": 3
   },
   "file_extension": ".py",
   "mimetype": "text/x-python",
   "name": "python",
   "nbconvert_exporter": "python",
   "pygments_lexer": "ipython3",
   "version": "3.7.13 (default, Oct 18 2022, 18:57:03) \n[GCC 11.2.0]"
  },
  "orig_nbformat": 4,
  "vscode": {
   "interpreter": {
    "hash": "64dba1bade80f3d1be731f611020ca32c934708d6a3f33960fb46d9b7530be6b"
   }
  }
 },
 "nbformat": 4,
 "nbformat_minor": 2
}
