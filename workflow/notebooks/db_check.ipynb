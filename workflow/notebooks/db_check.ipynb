{
 "cells": [
  {
   "cell_type": "code",
   "execution_count": null,
   "metadata": {},
   "outputs": [],
   "source": [
    "import pandas as pd\n",
    "import sqlite3 as sql"
   ]
  },
  {
   "cell_type": "code",
   "execution_count": null,
   "metadata": {},
   "outputs": [],
   "source": [
    "db1 = './data/uhD4YUPj6ImEQJi/MS2_results.db'\n",
    "con1 = sql.connect(db1)\n",
    "\n",
    "query1 = \"\"\"SELECT * FROM MS2Data\"\"\"\n",
    "#query1 = \"\"\"SELECT DISTINCT XL FROM MS2Data\"\"\"\n",
    "\n",
    "df1 = pd.read_sql_query(query1, con1)\n",
    "\n",
    "df1"
   ]
  },
  {
   "cell_type": "code",
   "execution_count": null,
   "metadata": {},
   "outputs": [],
   "source": [
    "db2 = './results/test_out/MS2_results.db'\n",
    "con2 = sql.connect(db2)\n",
    "\n",
    "query2 = \"\"\"SELECT * FROM MS2Data\"\"\"\n",
    "\n",
    "df2 = pd.read_sql_query(query2, con2)\n",
    "\n",
    "df2"
   ]
  },
  {
   "cell_type": "code",
   "execution_count": null,
   "metadata": {},
   "outputs": [],
   "source": [
    "df1[df1['spectrum_id'].isin(df2['spectrum_id'].to_list())]"
   ]
  }
 ],
 "metadata": {
  "kernelspec": {
   "display_name": "Python 3.7.12 ('pyrosetta')",
   "language": "python",
   "name": "python3"
  },
  "language_info": {
   "codemirror_mode": {
    "name": "ipython",
    "version": 3
   },
   "file_extension": ".py",
   "mimetype": "text/x-python",
   "name": "python",
   "nbconvert_exporter": "python",
   "pygments_lexer": "ipython3",
   "version": "3.7.13 (default, Oct 18 2022, 18:57:03) \n[GCC 11.2.0]"
  },
  "orig_nbformat": 4,
  "vscode": {
   "interpreter": {
    "hash": "64dba1bade80f3d1be731f611020ca32c934708d6a3f33960fb46d9b7530be6b"
   }
  }
 },
 "nbformat": 4,
 "nbformat_minor": 2
}
